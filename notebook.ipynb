{
 "cells": [
  {
   "cell_type": "markdown",
   "id": "3Xg_RQfnafXz",
   "metadata": {
    "id": "3Xg_RQfnafXz"
   },
   "source": [
    "# ¡Llena ese carrito!"
   ]
  },
  {
   "cell_type": "markdown",
   "id": "mhIvmmkW414q",
   "metadata": {
    "id": "mhIvmmkW414q"
   },
   "source": [
    "# Introducción\n",
    "\n",
    "Instacart es una plataforma de entregas de comestibles en línea. Para este proyecto se trabajó con un subconjunto de datos modificado, en el cual fue necesario realizar un proceso de limpieza que incluyó la detección y eliminación de valores ausentes y duplicados, asegurando la consistencia antes del análisis exploratorio.\n",
    "\n",
    "El análisis se enfocó en comprender patrones de comportamiento de los clientes, frecuencia de pedidos, hábitos de recompra y popularidad de productos, con el objetivo de identificar tendencias y oportunidades de negocio.\n"
   ]
  },
  {
   "cell_type": "markdown",
   "id": "3MbyzpOQZ5Or",
   "metadata": {
    "id": "3MbyzpOQZ5Or"
   },
   "source": [
    "## Diccionario de datos\n",
    "\n",
    "Hay cinco tablas en el conjunto de datos, y tendrás que usarlas todas para hacer el preprocesamiento de datos y el análisis exploratorio de datos. A continuación se muestra un diccionario de datos que enumera las columnas de cada tabla y describe los datos que contienen.\n",
    "\n",
    "- `instacart_orders.csv`: cada fila corresponde a un pedido en la aplicación Instacart.\n",
    "    - `'order_id'`: número de ID que identifica de manera única cada pedido.\n",
    "    - `'user_id'`: número de ID que identifica de manera única la cuenta de cada cliente.\n",
    "    - `'order_number'`: el número de veces que este cliente ha hecho un pedido.\n",
    "    - `'order_dow'`: día de la semana en que se hizo el pedido (0 si es domingo).\n",
    "    - `'order_hour_of_day'`: hora del día en que se hizo el pedido.\n",
    "    - `'days_since_prior_order'`: número de días transcurridos desde que este cliente hizo su pedido anterior.\n",
    "- `products.csv`: cada fila corresponde a un producto único que pueden comprar los clientes.\n",
    "    - `'product_id'`: número ID que identifica de manera única cada producto.\n",
    "    - `'product_name'`: nombre del producto.\n",
    "    - `'aisle_id'`: número ID que identifica de manera única cada categoría de pasillo de víveres.\n",
    "    - `'department_id'`: número ID que identifica de manera única cada departamento de víveres.\n",
    "- `order_products.csv`: cada fila corresponde a un artículo pedido en un pedido.\n",
    "    - `'order_id'`: número de ID que identifica de manera única cada pedido.\n",
    "    - `'product_id'`: número ID que identifica de manera única cada producto.\n",
    "    - `'add_to_cart_order'`: el orden secuencial en el que se añadió cada artículo en el carrito.\n",
    "    - `'reordered'`: 0 si el cliente nunca ha pedido este producto antes, 1 si lo ha pedido.\n",
    "- `aisles.csv`\n",
    "    - `'aisle_id'`: número ID que identifica de manera única cada categoría de pasillo de víveres.\n",
    "    - `'aisle'`: nombre del pasillo.\n",
    "- `departments.csv`\n",
    "    - `'department_id'`: número ID que identifica de manera única cada departamento de víveres.\n",
    "    - `'department'`: nombre del departamento."
   ]
  },
  {
   "cell_type": "markdown",
   "id": "n3Ha_cNSZ8lK",
   "metadata": {
    "id": "n3Ha_cNSZ8lK"
   },
   "source": [
    "# Paso 1. Descripción de los datos\n",
    "\n",
    "Con la ayuda de pandas, vamos a leer cada uno de los archivos proporcionados y con una revisión breve analizaré con qué situaciones nos vamos a enfrentar en el proyecto."
   ]
  },
  {
   "cell_type": "code",
   "execution_count": 1,
   "id": "fbf1adab",
   "metadata": {
    "id": "fbf1adab"
   },
   "outputs": [],
   "source": [
    "# importar librerías\n",
    "import pandas as pd"
   ]
  },
  {
   "cell_type": "code",
   "execution_count": 2,
   "id": "ad36396d",
   "metadata": {
    "id": "ad36396d"
   },
   "outputs": [],
   "source": [
    "# leer conjuntos de datos en los DataFrames\n",
    "orders = pd.read_csv('./datasets/instacart_orders.csv', sep=';')\n",
    "products = pd.read_csv('./datasets/products.csv', sep=';')\n",
    "aisles = pd.read_csv('./datasets/aisles.csv', sep=';')\n",
    "departments = pd.read_csv('./datasets/departments.csv', sep=';')\n",
    "order_products = pd.read_csv('./datasets/order_products.csv', sep=';')"
   ]
  },
  {
   "cell_type": "code",
   "execution_count": 3,
   "id": "ad6a1efa",
   "metadata": {
    "id": "ad6a1efa"
   },
   "outputs": [
    {
     "name": "stdout",
     "output_type": "stream",
     "text": [
      "<class 'pandas.core.frame.DataFrame'>\n",
      "RangeIndex: 478967 entries, 0 to 478966\n",
      "Data columns (total 6 columns):\n",
      " #   Column                  Non-Null Count   Dtype  \n",
      "---  ------                  --------------   -----  \n",
      " 0   order_id                478967 non-null  int64  \n",
      " 1   user_id                 478967 non-null  int64  \n",
      " 2   order_number            478967 non-null  int64  \n",
      " 3   order_dow               478967 non-null  int64  \n",
      " 4   order_hour_of_day       478967 non-null  int64  \n",
      " 5   days_since_prior_order  450148 non-null  float64\n",
      "dtypes: float64(1), int64(5)\n",
      "memory usage: 21.9 MB\n",
      "   order_id  user_id  order_number  order_dow  order_hour_of_day  \\\n",
      "0   1515936   183418            11          6                 13   \n",
      "1   1690866   163593             5          5                 12   \n",
      "2   1454967    39980             4          5                 19   \n",
      "3   1768857    82516            56          0                 20   \n",
      "4   3007858   196724             2          4                 12   \n",
      "\n",
      "   days_since_prior_order  \n",
      "0                    30.0  \n",
      "1                     9.0  \n",
      "2                     2.0  \n",
      "3                    10.0  \n",
      "4                    17.0  \n"
     ]
    }
   ],
   "source": [
    "# mostrar información del DataFrame así como los primeros 5 registros\n",
    "orders.info()\n",
    "print(orders.head(5))"
   ]
  },
  {
   "cell_type": "code",
   "execution_count": 4,
   "id": "5130e05e",
   "metadata": {
    "id": "5130e05e"
   },
   "outputs": [
    {
     "name": "stdout",
     "output_type": "stream",
     "text": [
      "<class 'pandas.core.frame.DataFrame'>\n",
      "RangeIndex: 49694 entries, 0 to 49693\n",
      "Data columns (total 4 columns):\n",
      " #   Column         Non-Null Count  Dtype \n",
      "---  ------         --------------  ----- \n",
      " 0   product_id     49694 non-null  int64 \n",
      " 1   product_name   48436 non-null  object\n",
      " 2   aisle_id       49694 non-null  int64 \n",
      " 3   department_id  49694 non-null  int64 \n",
      "dtypes: int64(3), object(1)\n",
      "memory usage: 1.5+ MB\n",
      "   product_id                                       product_name  aisle_id  \\\n",
      "0           1                         Chocolate Sandwich Cookies        61   \n",
      "1           2                                   All-Seasons Salt       104   \n",
      "2           3               Robust Golden Unsweetened Oolong Tea        94   \n",
      "3           4  Smart Ones Classic Favorites Mini Rigatoni Wit...        38   \n",
      "4           5                          Green Chile Anytime Sauce         5   \n",
      "\n",
      "   department_id  \n",
      "0             19  \n",
      "1             13  \n",
      "2              7  \n",
      "3              1  \n",
      "4             13  \n"
     ]
    }
   ],
   "source": [
    "# mostrar información del DataFrame así como los primeros 5 registros\n",
    "products.info()\n",
    "print(products.head(5))"
   ]
  },
  {
   "cell_type": "code",
   "execution_count": 5,
   "id": "d8370c05",
   "metadata": {
    "id": "d8370c05"
   },
   "outputs": [
    {
     "name": "stdout",
     "output_type": "stream",
     "text": [
      "<class 'pandas.core.frame.DataFrame'>\n",
      "RangeIndex: 134 entries, 0 to 133\n",
      "Data columns (total 2 columns):\n",
      " #   Column    Non-Null Count  Dtype \n",
      "---  ------    --------------  ----- \n",
      " 0   aisle_id  134 non-null    int64 \n",
      " 1   aisle     134 non-null    object\n",
      "dtypes: int64(1), object(1)\n",
      "memory usage: 2.2+ KB\n",
      "   aisle_id                       aisle\n",
      "0         1       prepared soups salads\n",
      "1         2           specialty cheeses\n",
      "2         3         energy granola bars\n",
      "3         4               instant foods\n",
      "4         5  marinades meat preparation\n"
     ]
    }
   ],
   "source": [
    "# mostrar información del DataFrame así como los primeros 5 registros\n",
    "aisles.info()\n",
    "print(aisles.head(5))"
   ]
  },
  {
   "cell_type": "code",
   "execution_count": 6,
   "id": "59e2090f",
   "metadata": {
    "id": "59e2090f"
   },
   "outputs": [
    {
     "name": "stdout",
     "output_type": "stream",
     "text": [
      "<class 'pandas.core.frame.DataFrame'>\n",
      "RangeIndex: 21 entries, 0 to 20\n",
      "Data columns (total 2 columns):\n",
      " #   Column         Non-Null Count  Dtype \n",
      "---  ------         --------------  ----- \n",
      " 0   department_id  21 non-null     int64 \n",
      " 1   department     21 non-null     object\n",
      "dtypes: int64(1), object(1)\n",
      "memory usage: 468.0+ bytes\n",
      "   department_id department\n",
      "0              1     frozen\n",
      "1              2      other\n",
      "2              3     bakery\n",
      "3              4    produce\n",
      "4              5    alcohol\n"
     ]
    }
   ],
   "source": [
    "# mostrar información del DataFrame así como los primeros 5 registros\n",
    "departments.info()\n",
    "print(departments.head(5))"
   ]
  },
  {
   "cell_type": "code",
   "execution_count": 7,
   "id": "6fc81694",
   "metadata": {
    "id": "6fc81694"
   },
   "outputs": [
    {
     "name": "stdout",
     "output_type": "stream",
     "text": [
      "<class 'pandas.core.frame.DataFrame'>\n",
      "RangeIndex: 4545007 entries, 0 to 4545006\n",
      "Data columns (total 4 columns):\n",
      " #   Column             Dtype  \n",
      "---  ------             -----  \n",
      " 0   order_id           int64  \n",
      " 1   product_id         int64  \n",
      " 2   add_to_cart_order  float64\n",
      " 3   reordered          int64  \n",
      "dtypes: float64(1), int64(3)\n",
      "memory usage: 138.7 MB\n",
      "   order_id  product_id  add_to_cart_order  reordered\n",
      "0   2141543       11440               17.0          0\n",
      "1    567889        1560                1.0          1\n",
      "2   2261212       26683                1.0          1\n",
      "3    491251        8670               35.0          1\n",
      "4   2571142        1940                5.0          1\n"
     ]
    }
   ],
   "source": [
    "# mostrar información del DataFrame así como los primeros 5 registros\n",
    "order_products.info()\n",
    "print(order_products.head(5))"
   ]
  },
  {
   "cell_type": "markdown",
   "id": "t75BD19oaR5f",
   "metadata": {
    "id": "t75BD19oaR5f"
   },
   "source": [
    "## Conclusiones\n",
    "\n",
    "\n",
    "<div class=\"alert alert-block alert-info\">\n",
    "1. Realicé la carga de todos en su formato CSV creyendo que en verdad son archivos separado por coma, pero al ver la info() en la primera carga noté que el separado era un \";\", así que se realiza el ajuste.\n",
    "</br>\n",
    "2. Se observan que los producto, pasillos y departamentos son catálogos y no tenemos valores nulos.\n",
    "</br>\n",
    "3. En `instacart_orders` si tenemos valores nulos para los días desde el pedido anterior, lo cual tiene mucho sentido ya que hay personas que solo han hecho una única vez un pedido.\n",
    "</br>\n",
    "4. Y con respecto a `order_products` no tenemos información sobre nulos ya que es tan grande que .info() no me dice dicho dato.\n",
    "</b> <a class=\"tocSkip\"></a>\n",
    "</div>"
   ]
  },
  {
   "cell_type": "markdown",
   "id": "8RJHqxVmaVsF",
   "metadata": {
    "id": "8RJHqxVmaVsF"
   },
   "source": [
    "# Paso 2. Preprocesamiento de los datos\n",
    "\n",
    "- Verificaremos y corrigiremos los tipos de datos (por ejemplo, asegurar de que las columnas de ID sean números enteros).\n",
    "- Identificar y completar los valores ausentes.\n",
    "- Identificar y eliminar los valores duplicados.\n"
   ]
  },
  {
   "cell_type": "markdown",
   "id": "07357848-dc64-4156-9cc3-01ff4365226d",
   "metadata": {
    "id": "07357848-dc64-4156-9cc3-01ff4365226d"
   },
   "source": [
    "## Encuentrar y eliminar los valores duplicados."
   ]
  },
  {
   "cell_type": "markdown",
   "id": "f179f0a9",
   "metadata": {
    "id": "f179f0a9"
   },
   "source": [
    "### `orders` data frame"
   ]
  },
  {
   "cell_type": "code",
   "execution_count": 8,
   "id": "b99297a5-405a-463d-8535-9adc3da4ad74",
   "metadata": {
    "id": "b99297a5-405a-463d-8535-9adc3da4ad74"
   },
   "outputs": [
    {
     "name": "stdout",
     "output_type": "stream",
     "text": [
      "Número de pedidos duplicados: 15\n",
      "Pedidos duplicados:\n",
      "        order_id  user_id  order_number  order_dow  order_hour_of_day  \\\n",
      "145574    794638    50898            24          3                  2   \n",
      "223105   2160484   107525            16          3                  2   \n",
      "230807   1918001   188546            14          3                  2   \n",
      "266232   1782114   106752             1          3                  2   \n",
      "273805   1112182   202304            84          3                  2   \n",
      "284038   2845099    31189            11          3                  2   \n",
      "311713   1021560    53767             3          3                  2   \n",
      "321100    408114    68324             4          3                  2   \n",
      "323900   1919531   191501            32          3                  2   \n",
      "345917   2232988    82565             1          3                  2   \n",
      "371905    391768    57671            19          3                  2   \n",
      "394347    467134    63189            21          3                  2   \n",
      "411408   1286742   183220            48          3                  2   \n",
      "415163   2282673    86751            49          3                  2   \n",
      "441599   2125197    14050            48          3                  2   \n",
      "\n",
      "        days_since_prior_order  \n",
      "145574                     2.0  \n",
      "223105                    30.0  \n",
      "230807                    16.0  \n",
      "266232                     NaN  \n",
      "273805                     6.0  \n",
      "284038                     7.0  \n",
      "311713                     9.0  \n",
      "321100                    18.0  \n",
      "323900                     7.0  \n",
      "345917                     NaN  \n",
      "371905                    10.0  \n",
      "394347                     2.0  \n",
      "411408                     4.0  \n",
      "415163                     2.0  \n",
      "441599                     3.0  \n"
     ]
    }
   ],
   "source": [
    "# Revisa si hay pedidos duplicados\n",
    "print(\"Número de pedidos duplicados:\", orders.duplicated().sum())\n",
    "# Cómo si hay duplicados vamos a imprimirlos y ver de qué se trata\n",
    "print(\"Pedidos duplicados:\")\n",
    "print(orders[orders.duplicated()])"
   ]
  },
  {
   "cell_type": "markdown",
   "id": "PEkwUX_gvt5A",
   "metadata": {
    "id": "PEkwUX_gvt5A"
   },
   "source": [
    "<div class=\"alert alert-block alert-info\">\n",
    "<b>Comentarios:</b> <a class=“tocSkip”></a>\n",
    "\n",
    "Al imprimir los valores duplicados, se observa que todos tiene en común que se hicieron el miércoles a las 2am. En total son 15 registros que se duplican.\n",
    "</b> <a class=\"tocSkip\"></a>\n",
    "</div>"
   ]
  },
  {
   "cell_type": "code",
   "execution_count": 9,
   "id": "0d44de5d",
   "metadata": {
    "id": "0d44de5d"
   },
   "outputs": [
    {
     "name": "stdout",
     "output_type": "stream",
     "text": [
      "        order_id  user_id  order_number  order_dow  order_hour_of_day  \\\n",
      "4838     2766110   162084            41          3                  2   \n",
      "5156     2190225   138285            18          3                  2   \n",
      "15506     553049    58599            13          3                  2   \n",
      "18420     382357   120200            19          3                  2   \n",
      "24691     690242    77357             2          3                  2   \n",
      "...          ...      ...           ...        ...                ...   \n",
      "457013   3384021    14881             6          3                  2   \n",
      "458816    910166   164782            18          3                  2   \n",
      "459635   1680532   106435             6          3                  2   \n",
      "468324    222962    54979            59          3                  2   \n",
      "477526   2592344    46860            38          3                  2   \n",
      "\n",
      "        days_since_prior_order  \n",
      "4838                      16.0  \n",
      "5156                      11.0  \n",
      "15506                      7.0  \n",
      "18420                     11.0  \n",
      "24691                      9.0  \n",
      "...                        ...  \n",
      "457013                    30.0  \n",
      "458816                     4.0  \n",
      "459635                    21.0  \n",
      "468324                     3.0  \n",
      "477526                     3.0  \n",
      "\n",
      "[121 rows x 6 columns]\n"
     ]
    }
   ],
   "source": [
    "# Verificamos que todos los pedidos que se hicieron el miércoles a las 2:00 a.m.\n",
    "orders_wend_2am = orders.query(\"order_dow==3 and order_hour_of_day==2\")\n",
    "print(orders_wend_2am)"
   ]
  },
  {
   "cell_type": "markdown",
   "id": "vu2OWyoqwOx5",
   "metadata": {
    "id": "vu2OWyoqwOx5"
   },
   "source": [
    "<div class=\"alert alert-block alert-info\">\n",
    "<b>Comentarios:</b> <a class=“tocSkip”></a>\n",
    "\n",
    "Son 15 duplicados de 121 con esas condiciones, que represetan el 12.4%, así que no es una cantidad que impacte en nuestra revisión, así que podemos eliminarlos.\n",
    "</b> <a class=\"tocSkip\"></a>\n",
    "</div>"
   ]
  },
  {
   "cell_type": "code",
   "execution_count": 10,
   "id": "480563c7",
   "metadata": {
    "id": "480563c7"
   },
   "outputs": [],
   "source": [
    "# Eliminamos los pedidos duplicados\n",
    "orders = orders.drop_duplicates()\n",
    "orders.reset_index(drop=True, inplace=True)"
   ]
  },
  {
   "cell_type": "code",
   "execution_count": 11,
   "id": "0b2396a2",
   "metadata": {
    "id": "0b2396a2"
   },
   "outputs": [
    {
     "name": "stdout",
     "output_type": "stream",
     "text": [
      "Número de filas duplicadas: 0\n"
     ]
    }
   ],
   "source": [
    "# Verificar si hay filas duplicadas\n",
    "print(\"Número de filas duplicadas:\", orders.duplicated().sum())"
   ]
  },
  {
   "cell_type": "code",
   "execution_count": 12,
   "id": "f6113ef1",
   "metadata": {
    "id": "f6113ef1"
   },
   "outputs": [
    {
     "name": "stdout",
     "output_type": "stream",
     "text": [
      "0\n"
     ]
    }
   ],
   "source": [
    "# Vuelve a verificar únicamente si hay IDs duplicados de pedidos\n",
    "print(orders['order_id'].duplicated().sum())"
   ]
  },
  {
   "cell_type": "markdown",
   "id": "5e8905ae",
   "metadata": {
    "id": "5e8905ae"
   },
   "source": [
    "<div class=\"alert alert-block alert-info\">\n",
    "<b>Comentarios:</b> <a class=“tocSkip”></a>\n",
    "\n",
    "Se localizaron valores duplciados, y al revisarlos, se observó que solo sucedieoron un miércoles a las 2am, al analizarlos y compararlos con todos los valores de miércoles a las 2am se observó que eran 15 duplicados de 121 con esas condiciones, que represetan el 12.4%, así que los eliminamos.\n",
    "</b> <a class=\"tocSkip\"></a>\n",
    "</div>"
   ]
  },
  {
   "cell_type": "markdown",
   "id": "45e6bc46",
   "metadata": {
    "id": "45e6bc46"
   },
   "source": [
    "### `products` data frame"
   ]
  },
  {
   "cell_type": "code",
   "execution_count": 13,
   "id": "5f526b5b-8175-46fa-a0fd-441767d50e64",
   "metadata": {
    "id": "5f526b5b-8175-46fa-a0fd-441767d50e64"
   },
   "outputs": [
    {
     "name": "stdout",
     "output_type": "stream",
     "text": [
      "Número de filas totalmente duplicadas: 0\n"
     ]
    }
   ],
   "source": [
    "# Verificar si hay filas totalmente duplicadas\n",
    "print(\"Número de filas totalmente duplicadas:\", products.duplicated().sum())"
   ]
  },
  {
   "cell_type": "code",
   "execution_count": 14,
   "id": "88daa4f4",
   "metadata": {
    "id": "88daa4f4"
   },
   "outputs": [
    {
     "name": "stdout",
     "output_type": "stream",
     "text": [
      "Número de ID de productos duplicados: 0\n"
     ]
    }
   ],
   "source": [
    "# Revisar únicamente si hay ID de productos duplicados\n",
    "print(\"Número de ID de productos duplicados:\", products['product_id'].duplicated().sum())"
   ]
  },
  {
   "cell_type": "code",
   "execution_count": 15,
   "id": "c773f0bf",
   "metadata": {
    "id": "c773f0bf"
   },
   "outputs": [
    {
     "name": "stdout",
     "output_type": "stream",
     "text": [
      "Número de nombres de productos duplicados: 1361\n"
     ]
    }
   ],
   "source": [
    "# Revisar únicamente si hay nombres duplicados de productos y convertimos los nombres a letras mayúsculas para compararlos mejor\n",
    "products['product_name'] = products['product_name'].str.upper()\n",
    "print(\"Número de nombres de productos duplicados:\", products['product_name'].duplicated().sum())\n"
   ]
  },
  {
   "cell_type": "code",
   "execution_count": 16,
   "id": "01efd02e",
   "metadata": {
    "id": "01efd02e"
   },
   "outputs": [
    {
     "name": "stdout",
     "output_type": "stream",
     "text": [
      "       product_id product_name  aisle_id  department_id\n",
      "71             72          NaN       100             21\n",
      "109           110          NaN       100             21\n",
      "296           297          NaN       100             21\n",
      "416           417          NaN       100             21\n",
      "436           437          NaN       100             21\n",
      "...           ...          ...       ...            ...\n",
      "49552       49553          NaN       100             21\n",
      "49574       49575          NaN       100             21\n",
      "49640       49641          NaN       100             21\n",
      "49663       49664          NaN       100             21\n",
      "49668       49669          NaN       100             21\n",
      "\n",
      "[1257 rows x 4 columns]\n"
     ]
    }
   ],
   "source": [
    "# Revisamos si hay nombres duplicados de productos no faltantes\n",
    "print(products[products['product_name'].duplicated() & products['product_name'].isna()])"
   ]
  },
  {
   "cell_type": "markdown",
   "id": "9da8d293",
   "metadata": {
    "id": "9da8d293"
   },
   "source": [
    "Describe brevemente tus hallazgos y lo que hiciste con ellos.\n",
    "\n",
    "<div class=\"alert alert-block alert-info\">\n",
    "<b>Comentarios:</b> <a class=“tocSkip”></a>\n",
    "\n",
    "Se ponen en mayúsculas los nombres de los productos para tener mayor certeza al buscar duplicados.\n",
    "Se localizaron valores duplicados en los nombres de los productos. Además, se observa que 1257 de estos valores duplicados es porque el valor de nombre es Nulo. esto representa el 92.3% de todos los duplicados así que puede ser opción eliminarlos, pero antes, será necesario revisar si estos de alguna forma han sido utilizado en alguna orden.\n",
    "</b> <a class=\"tocSkip\"></a>\n",
    "</div>"
   ]
  },
  {
   "cell_type": "markdown",
   "id": "60f30db1",
   "metadata": {
    "id": "60f30db1"
   },
   "source": [
    "### `departments` data frame"
   ]
  },
  {
   "cell_type": "code",
   "execution_count": 17,
   "id": "fb410ad4-0fbf-4b80-bb09-23fdea79afe3",
   "metadata": {
    "id": "fb410ad4-0fbf-4b80-bb09-23fdea79afe3"
   },
   "outputs": [
    {
     "name": "stdout",
     "output_type": "stream",
     "text": [
      "Número de filas totalmente duplicadas: 0\n"
     ]
    }
   ],
   "source": [
    "# Revisamos si hay filas totalmente duplicadas\n",
    "print(\"Número de filas totalmente duplicadas:\", departments.duplicated().sum())"
   ]
  },
  {
   "cell_type": "code",
   "execution_count": 18,
   "id": "332b12bb",
   "metadata": {
    "id": "332b12bb"
   },
   "outputs": [
    {
     "name": "stdout",
     "output_type": "stream",
     "text": [
      "0\n"
     ]
    }
   ],
   "source": [
    "# Revisamos únicamente si hay IDs duplicadas de departamentos\n",
    "print(departments['department_id'].duplicated().sum())"
   ]
  },
  {
   "cell_type": "markdown",
   "id": "bd30d78e",
   "metadata": {
    "id": "bd30d78e"
   },
   "source": [
    "<div class=\"alert alert-block alert-info\">\n",
    "<b>Comentarios:</b> <a class=“tocSkip”></a>\n",
    "\n",
    "No hay duplicidades ni a nivel de la tabla general, ni a nivel particular de el id de departament, así que no hay nada más que revisar al respecto.\n",
    "</b> <a class=\"tocSkip\"></a>\n",
    "</div>"
   ]
  },
  {
   "cell_type": "markdown",
   "id": "889349c1",
   "metadata": {
    "id": "889349c1"
   },
   "source": [
    "### `aisles` data frame"
   ]
  },
  {
   "cell_type": "code",
   "execution_count": 19,
   "id": "9da89fb9-4679-40f5-ad0d-c34df753a3f8",
   "metadata": {
    "id": "9da89fb9-4679-40f5-ad0d-c34df753a3f8"
   },
   "outputs": [
    {
     "name": "stdout",
     "output_type": "stream",
     "text": [
      "Número de filas totalmente duplicadas: 0\n"
     ]
    }
   ],
   "source": [
    "# Revisamos si hay filas totalmente duplicadas\n",
    "print(\"Número de filas totalmente duplicadas:\",aisles.duplicated().sum())"
   ]
  },
  {
   "cell_type": "code",
   "execution_count": 20,
   "id": "da7c2822",
   "metadata": {
    "id": "da7c2822"
   },
   "outputs": [
    {
     "name": "stdout",
     "output_type": "stream",
     "text": [
      "0\n"
     ]
    }
   ],
   "source": [
    "# Revisamos únicamente si hay IDs duplicadas de pasillos\n",
    "print(aisles['aisle_id'].duplicated().sum())"
   ]
  },
  {
   "cell_type": "markdown",
   "id": "ac63826f",
   "metadata": {
    "id": "ac63826f"
   },
   "source": [
    "<div class=\"alert alert-block alert-info\">\n",
    "<b>Comentarios:</b> <a class=“tocSkip”></a>\n",
    "\n",
    "No hay duplicidades ni a nivel de la tabla general, ni a nivel particular de el `aisle_id`, así que no hay nada más que revisar al respecto.\n",
    "</b> <a class=\"tocSkip\"></a>\n",
    "</div>"
   ]
  },
  {
   "cell_type": "markdown",
   "id": "274cd06a",
   "metadata": {
    "id": "274cd06a"
   },
   "source": [
    "### `order_products` data frame"
   ]
  },
  {
   "cell_type": "code",
   "execution_count": 21,
   "id": "52326689-84a8-4b8f-a881-7c68780f62c9",
   "metadata": {
    "id": "52326689-84a8-4b8f-a881-7c68780f62c9"
   },
   "outputs": [
    {
     "name": "stdout",
     "output_type": "stream",
     "text": [
      "Número de filas totalmente duplicadas: 0\n"
     ]
    }
   ],
   "source": [
    "# Revisamos si hay filas totalmente duplicadas\n",
    "print(\"Número de filas totalmente duplicadas:\",order_products.duplicated().sum())"
   ]
  },
  {
   "cell_type": "code",
   "execution_count": 22,
   "id": "7b861391",
   "metadata": {
    "id": "7b861391"
   },
   "outputs": [
    {
     "name": "stdout",
     "output_type": "stream",
     "text": [
      "4094961\n",
      "4499434\n"
     ]
    }
   ],
   "source": [
    "# Volvemos a verificar si hay cualquier otro duplicado engañoso\n",
    "print(order_products['order_id'].duplicated().sum())\n",
    "print(order_products['product_id'].duplicated().sum())"
   ]
  },
  {
   "cell_type": "markdown",
   "id": "0b890492",
   "metadata": {
    "id": "0b890492"
   },
   "source": [
    "<div class=\"alert alert-block alert-info\">\n",
    "<b>Comentarios:</b> <a class=“tocSkip”></a>\n",
    "\n",
    "Esta tabla contiene el registro histórico de todas las transacciones, para cada `order_id`, deben de existir más de un product_id, asi que es natural ver tantos duplicados si los vemos por columnas, pero al ver duplicidades a nivel de tabla no hay,así que no hay nada que hacer al respecto.\n",
    "</b> <a class=\"tocSkip\"></a>\n",
    "</div>"
   ]
  },
  {
   "cell_type": "markdown",
   "id": "1e46de76",
   "metadata": {
    "id": "1e46de76"
   },
   "source": [
    "## Encontrar y eliminar los valores ausentes\n",
    "\n",
    "Al trabajar con valores duplicados, pudimos observar que también nos falta investigar valores ausentes:\n",
    "\n",
    "* La columna `'product_name'` de la tabla products.\n",
    "* La columna `'days_since_prior_order'` de la tabla orders.\n",
    "* La columna `'add_to_cart_order'` de la tabla order_productos."
   ]
  },
  {
   "cell_type": "markdown",
   "id": "c0aebd78",
   "metadata": {
    "id": "c0aebd78"
   },
   "source": [
    "### `products` data frame"
   ]
  },
  {
   "cell_type": "code",
   "execution_count": 23,
   "id": "fe4a8b0f",
   "metadata": {
    "id": "fe4a8b0f"
   },
   "outputs": [
    {
     "name": "stdout",
     "output_type": "stream",
     "text": [
      "       product_id product_name  aisle_id  department_id\n",
      "37             38          NaN       100             21\n",
      "71             72          NaN       100             21\n",
      "109           110          NaN       100             21\n",
      "296           297          NaN       100             21\n",
      "416           417          NaN       100             21\n",
      "...           ...          ...       ...            ...\n",
      "49552       49553          NaN       100             21\n",
      "49574       49575          NaN       100             21\n",
      "49640       49641          NaN       100             21\n",
      "49663       49664          NaN       100             21\n",
      "49668       49669          NaN       100             21\n",
      "\n",
      "[1258 rows x 4 columns]\n"
     ]
    }
   ],
   "source": [
    "# Encuentra los valores ausentes en la columna 'product_name'\n",
    "print(products[products['product_name'].isna()])"
   ]
  },
  {
   "cell_type": "markdown",
   "id": "-A6x1AbJhjkp",
   "metadata": {
    "id": "-A6x1AbJhjkp"
   },
   "source": [
    "<div class=\"alert alert-block alert-info\">\n",
    "<b>Comentarios:</b> <a class=“tocSkip”></a>\n",
    "\n",
    "Los registro con product_name ausente aparentan tener una característica similar.\n",
    "</b> <a class=\"tocSkip\"></a>\n",
    "</div>"
   ]
  },
  {
   "cell_type": "code",
   "execution_count": 24,
   "id": "e96167bc",
   "metadata": {
    "id": "e96167bc"
   },
   "outputs": [
    {
     "name": "stdout",
     "output_type": "stream",
     "text": [
      "          product_id  product_name  department_id\n",
      "aisle_id                                         \n",
      "100             1258             0           1258\n"
     ]
    }
   ],
   "source": [
    "products_nan = products[products['product_name'].isna()]\n",
    "product_by_aisle = products_nan.groupby(by='aisle_id').count()\n",
    "print(product_by_aisle)"
   ]
  },
  {
   "cell_type": "markdown",
   "id": "WRpIfXRphpSL",
   "metadata": {
    "id": "WRpIfXRphpSL"
   },
   "source": [
    "<div class=\"alert alert-block alert-info\">\n",
    "<b>Comentarios:</b> <a class=“tocSkip”></a>\n",
    "\n",
    "Se observa que todos los nombre de productos ausentes pertencen al aisle_id=100.\n",
    "</b> <a class=\"tocSkip\"></a>\n",
    "</div>"
   ]
  },
  {
   "cell_type": "code",
   "execution_count": 25,
   "id": "8fd0a541",
   "metadata": {
    "id": "8fd0a541"
   },
   "outputs": [
    {
     "name": "stdout",
     "output_type": "stream",
     "text": [
      "               product_id  product_name  aisle_id\n",
      "department_id                                    \n",
      "21                   1258             0      1258\n"
     ]
    }
   ],
   "source": [
    "# Revisamos si todos los nombres de productos ausentes \n",
    "products_nan = products[products['product_name'].isna()]\n",
    "product_by_dept = products_nan.groupby(by='department_id').count()\n",
    "print(product_by_dept)"
   ]
  },
  {
   "cell_type": "markdown",
   "id": "qDpdYn1Fht_I",
   "metadata": {
    "id": "qDpdYn1Fht_I"
   },
   "source": [
    "<div class=\"alert alert-block alert-info\">\n",
    "<b>Comentarios:</b> <a class=“tocSkip”></a>\n",
    "\n",
    "Se observa además, que todos los nombre de productos ausentes pertencen al department_id = 21.\n",
    "</b> <a class=\"tocSkip\"></a>\n",
    "</div>"
   ]
  },
  {
   "cell_type": "code",
   "execution_count": 26,
   "id": "325c3464",
   "metadata": {
    "id": "325c3464"
   },
   "outputs": [
    {
     "name": "stdout",
     "output_type": "stream",
     "text": [
      "       product_id product_name  aisle_id  department_id\n",
      "37             38          NaN       100             21\n",
      "71             72          NaN       100             21\n",
      "109           110          NaN       100             21\n",
      "296           297          NaN       100             21\n",
      "416           417          NaN       100             21\n",
      "...           ...          ...       ...            ...\n",
      "49552       49553          NaN       100             21\n",
      "49574       49575          NaN       100             21\n",
      "49640       49641          NaN       100             21\n",
      "49663       49664          NaN       100             21\n",
      "49668       49669          NaN       100             21\n",
      "\n",
      "[1258 rows x 4 columns]\n"
     ]
    }
   ],
   "source": [
    "# Usamos las tablas department y aisle para revisar los datos del pasillo con ID 100 y el departamento con ID 21.\n",
    "products_100_21 = products.query(\"department_id == 21 & aisle_id == 100 \")\n",
    "print(products_100_21)"
   ]
  },
  {
   "cell_type": "markdown",
   "id": "nqhSTUPhhvEJ",
   "metadata": {
    "id": "nqhSTUPhhvEJ"
   },
   "source": [
    "<div class=\"alert alert-block alert-info\">\n",
    "<b>Comentarios:</b> <a class=“tocSkip”></a>\n",
    "\n",
    "Se observa que todos los registros con department_id=21 y aisle_id=100 son los que tiene el nombre de producto ausente, así que dentro de todos los datos. solo esta conincidencia no tiene un nombre definido. así que podemos renombrarlo con la confianza que esto, solo va a alterar una misma característica dentro de los datos.\n",
    "</b> <a class=\"tocSkip\"></a>\n",
    "</div>"
   ]
  },
  {
   "cell_type": "code",
   "execution_count": 27,
   "id": "6b295120",
   "metadata": {
    "id": "6b295120"
   },
   "outputs": [
    {
     "name": "stdout",
     "output_type": "stream",
     "text": [
      "<class 'pandas.core.frame.DataFrame'>\n",
      "RangeIndex: 49694 entries, 0 to 49693\n",
      "Data columns (total 4 columns):\n",
      " #   Column         Non-Null Count  Dtype \n",
      "---  ------         --------------  ----- \n",
      " 0   product_id     49694 non-null  int64 \n",
      " 1   product_name   49694 non-null  object\n",
      " 2   aisle_id       49694 non-null  int64 \n",
      " 3   department_id  49694 non-null  int64 \n",
      "dtypes: int64(3), object(1)\n",
      "memory usage: 1.5+ MB\n"
     ]
    }
   ],
   "source": [
    "# Completamos los nombres de productos ausentes con 'Unknown'\n",
    "products['product_name'] = products['product_name'].fillna('Unknown') \n",
    "products.info()"
   ]
  },
  {
   "cell_type": "markdown",
   "id": "fc70e5ad",
   "metadata": {
    "id": "fc70e5ad"
   },
   "source": [
    "<div class=\"alert alert-block alert-info\">\n",
    "<b>Comentarios:</b> <a class=“tocSkip”></a>\n",
    "\n",
    "Todos los nombres de productos ausentese se cambian por 'Unknown'.\n",
    "</b> <a class=\"tocSkip\"></a>\n",
    "</div>"
   ]
  },
  {
   "cell_type": "markdown",
   "id": "7eb45c86",
   "metadata": {
    "id": "7eb45c86"
   },
   "source": [
    "### `orders` data frame"
   ]
  },
  {
   "cell_type": "code",
   "execution_count": 28,
   "id": "93e41d96",
   "metadata": {
    "id": "93e41d96"
   },
   "outputs": [
    {
     "name": "stdout",
     "output_type": "stream",
     "text": [
      "        order_id  user_id  order_number  order_dow  order_hour_of_day  \\\n",
      "28        133707   182261             1          3                 10   \n",
      "96        787445    25685             1          6                 18   \n",
      "100       294410   111449             1          0                 19   \n",
      "103      2869915   123958             1          4                 16   \n",
      "104      2521921    42286             1          3                 18   \n",
      "...          ...      ...           ...        ...                ...   \n",
      "478880   2589657   205028             1          0                 16   \n",
      "478881   2222353   141211             1          2                 13   \n",
      "478907   2272807   204154             1          1                 15   \n",
      "478911   2499542    68810             1          4                 19   \n",
      "478930   1387033    22496             1          5                 14   \n",
      "\n",
      "        days_since_prior_order  \n",
      "28                         NaN  \n",
      "96                         NaN  \n",
      "100                        NaN  \n",
      "103                        NaN  \n",
      "104                        NaN  \n",
      "...                        ...  \n",
      "478880                     NaN  \n",
      "478881                     NaN  \n",
      "478907                     NaN  \n",
      "478911                     NaN  \n",
      "478930                     NaN  \n",
      "\n",
      "[28817 rows x 6 columns]\n"
     ]
    }
   ],
   "source": [
    "# Encontrar los valores ausentes\n",
    "print(orders[orders['days_since_prior_order'].isna()])"
   ]
  },
  {
   "cell_type": "code",
   "execution_count": 29,
   "id": "166e5a86",
   "metadata": {
    "id": "166e5a86"
   },
   "outputs": [
    {
     "name": "stdout",
     "output_type": "stream",
     "text": [
      "Valores ausentes en order_id: Empty DataFrame\n",
      "Columns: [order_id, user_id, order_number, order_dow, order_hour_of_day, days_since_prior_order]\n",
      "Index: []\n",
      "Valores ausentes en user_id: Empty DataFrame\n",
      "Columns: [order_id, user_id, order_number, order_dow, order_hour_of_day, days_since_prior_order]\n",
      "Index: []\n",
      "Valores ausentes en order_number: Empty DataFrame\n",
      "Columns: [order_id, user_id, order_number, order_dow, order_hour_of_day, days_since_prior_order]\n",
      "Index: []\n",
      "Valores ausentes en order_dow: Empty DataFrame\n",
      "Columns: [order_id, user_id, order_number, order_dow, order_hour_of_day, days_since_prior_order]\n",
      "Index: []\n",
      "Valores ausentes en order_hour_of_day: Empty DataFrame\n",
      "Columns: [order_id, user_id, order_number, order_dow, order_hour_of_day, days_since_prior_order]\n",
      "Index: []\n"
     ]
    }
   ],
   "source": [
    "# Revisamos si hay valores ausentes en las columnas de orders\n",
    "print(\"Valores ausentes en order_id:\", orders[orders['order_id'].isna()])\n",
    "print(\"Valores ausentes en user_id:\", orders[orders['user_id'].isna()])\n",
    "print(\"Valores ausentes en order_number:\", orders[orders['order_number'].isna()])\n",
    "print(\"Valores ausentes en order_dow:\", orders[orders['order_dow'].isna()])\n",
    "print(\"Valores ausentes en order_hour_of_day:\", orders[orders['order_hour_of_day'].isna()])"
   ]
  },
  {
   "cell_type": "markdown",
   "id": "4e23d089",
   "metadata": {
    "id": "4e23d089"
   },
   "source": [
    "<div class=\"alert alert-block alert-info\">\n",
    "<b>Comentarios:</b> <a class=“tocSkip”></a>\n",
    "\n",
    "Desde orders.info() era evidente que solo days_since_prior_order tenía valores ausentes mismo que son consistentes con la naturaleza de su existencia. Fuera de eso, no hay ningún dato ausente.\n",
    "</b> <a class=\"tocSkip\"></a>\n",
    "</div>"
   ]
  },
  {
   "cell_type": "markdown",
   "id": "69dc9ca4",
   "metadata": {
    "id": "69dc9ca4"
   },
   "source": [
    "### `order_products` data frame"
   ]
  },
  {
   "cell_type": "code",
   "execution_count": 30,
   "id": "b8240253",
   "metadata": {
    "id": "b8240253"
   },
   "outputs": [
    {
     "name": "stdout",
     "output_type": "stream",
     "text": [
      "Valores ausentes en order_id: Empty DataFrame\n",
      "Columns: [order_id, product_id, add_to_cart_order, reordered]\n",
      "Index: []\n",
      "Valores ausentes en product_id: Empty DataFrame\n",
      "Columns: [order_id, product_id, add_to_cart_order, reordered]\n",
      "Index: []\n",
      "Valores ausentes en add_to_cart_order:          order_id  product_id  add_to_cart_order  reordered\n",
      "737       2449164        5068                NaN          0\n",
      "9926      1968313       43867                NaN          0\n",
      "14394     2926893       11688                NaN          0\n",
      "16418     1717990        4142                NaN          0\n",
      "30114     1959075       42828                NaN          1\n",
      "...           ...         ...                ...        ...\n",
      "4505662   1800005        7411                NaN          0\n",
      "4511400   1633337         260                NaN          0\n",
      "4517562    404157        9517                NaN          0\n",
      "4534112   1673227       17835                NaN          0\n",
      "4535739   1832957       17949                NaN          1\n",
      "\n",
      "[836 rows x 4 columns]\n",
      "Valores ausentes en reordered: Empty DataFrame\n",
      "Columns: [order_id, product_id, add_to_cart_order, reordered]\n",
      "Index: []\n"
     ]
    }
   ],
   "source": [
    "# Encontrar los valores ausentes\n",
    "print(\"Valores ausentes en order_id:\", order_products[order_products['order_id'].isna()])\n",
    "print(\"Valores ausentes en product_id:\", order_products[order_products['product_id'].isna()])\n",
    "print(\"Valores ausentes en add_to_cart_order:\", order_products[order_products['add_to_cart_order'].isna()])\n",
    "print(\"Valores ausentes en reordered:\", order_products[order_products['reordered'].isna()])"
   ]
  },
  {
   "cell_type": "code",
   "execution_count": 31,
   "id": "9a78e5ee",
   "metadata": {
    "id": "9a78e5ee"
   },
   "outputs": [
    {
     "name": "stdout",
     "output_type": "stream",
     "text": [
      "el valor máximo de la columna add_to_cart_order es: 64.0\n",
      "el valor mínimo de la columna add_to_cart_order es: 1.0\n"
     ]
    }
   ],
   "source": [
    "# ¿Cuáles son los valores mínimos y máximos en esta columna?\n",
    "print(\"el valor máximo de la columna add_to_cart_order es:\",order_products['add_to_cart_order'].max())\n",
    "print(\"el valor mínimo de la columna add_to_cart_order es:\",order_products['add_to_cart_order'].min())"
   ]
  },
  {
   "cell_type": "code",
   "execution_count": 32,
   "id": "ab9d0c2b",
   "metadata": {
    "id": "ab9d0c2b"
   },
   "outputs": [
    {
     "name": "stdout",
     "output_type": "stream",
     "text": [
      "         order_id  product_id  add_to_cart_order  reordered\n",
      "737       2449164        5068                NaN          0\n",
      "9926      1968313       43867                NaN          0\n",
      "14394     2926893       11688                NaN          0\n",
      "16418     1717990        4142                NaN          0\n",
      "30114     1959075       42828                NaN          1\n",
      "...           ...         ...                ...        ...\n",
      "4505662   1800005        7411                NaN          0\n",
      "4511400   1633337         260                NaN          0\n",
      "4517562    404157        9517                NaN          0\n",
      "4534112   1673227       17835                NaN          0\n",
      "4535739   1832957       17949                NaN          1\n",
      "\n",
      "[836 rows x 4 columns]\n"
     ]
    }
   ],
   "source": [
    "# Guardamos todas las IDs de pedidos que tengan un valor ausente en 'add_to_cart_order'\n",
    "print(order_products[order_products['add_to_cart_order'].isna()])"
   ]
  },
  {
   "cell_type": "code",
   "execution_count": 33,
   "id": "54c31695",
   "metadata": {
    "id": "54c31695"
   },
   "outputs": [
    {
     "name": "stdout",
     "output_type": "stream",
     "text": [
      "order_id\n",
      "9310        1\n",
      "747668      1\n",
      "1598369     1\n",
      "1677118     1\n",
      "2170451     1\n",
      "           ..\n",
      "1959075    34\n",
      "171934     40\n",
      "2136777    44\n",
      "3308010    51\n",
      "61355      63\n",
      "Name: product_id, Length: 70, dtype: int64\n"
     ]
    }
   ],
   "source": [
    "# ¿Todos los pedidos con valores ausentes tienen más de 64 productos?\n",
    "# Agrupa todos los pedidos con datos ausentes por su ID de pedido.\n",
    "# Cuenta el número de 'product_id' en cada pedido y revisa el valor mínimo del conteo.\n",
    "orders_p_nan = order_products[order_products['add_to_cart_order'].isna()]\n",
    "orders_p_nan_grouped = orders_p_nan.groupby(by='order_id')['product_id'].count()\n",
    "print(orders_p_nan_grouped.sort_values())\n"
   ]
  },
  {
   "cell_type": "markdown",
   "id": "p9V6pddtjglj",
   "metadata": {
    "id": "p9V6pddtjglj"
   },
   "source": [
    "<div class=\"alert alert-block alert-info\">\n",
    "<b>Comentarios:</b> <a class=“tocSkip”></a>\n",
    "\n",
    "Considerando solo los valores ausentes, se observa que la cantidad de productos solicitados en cada orden, NO exceden los 63 productos. Y la mínima cantidad de prodcutos solicitados es de uno. Además, estos son solo 70 órdenes (distintas) contra las 450,046 órdenes que NO tiene valores ausente.\n",
    "</b> <a class=\"tocSkip\"></a>\n",
    "</div>"
   ]
  },
  {
   "cell_type": "code",
   "execution_count": 34,
   "id": "7a987d08",
   "metadata": {
    "id": "7a987d08"
   },
   "outputs": [
    {
     "name": "stdout",
     "output_type": "stream",
     "text": [
      "   order_id  product_id  add_to_cart_order  reordered\n",
      "0   2141543       11440                 17          0\n",
      "1    567889        1560                  1          1\n",
      "2   2261212       26683                  1          1\n",
      "3    491251        8670                 35          1\n",
      "4   2571142        1940                  5          1\n"
     ]
    }
   ],
   "source": [
    "# Remplazamos los valores ausentes en la columna 'add_to_cart? con 999 y convierte la columna al tipo entero.\n",
    "order_products['add_to_cart_order'] = order_products['add_to_cart_order'].fillna(999)\n",
    "order_products['add_to_cart_order'] = order_products['add_to_cart_order'].astype('int')\n",
    "print(order_products.head())"
   ]
  },
  {
   "cell_type": "markdown",
   "id": "fea4bcc7",
   "metadata": {
    "id": "fea4bcc7"
   },
   "source": [
    "<div class=\"alert alert-block alert-info\">\n",
    "<b>Comentarios:</b> <a class=“tocSkip”></a>\n",
    "\n",
    "Se trabajan con los valores ausentes de la secuencia en la que se añade cada artículo. Se entiendo que ese valor, dentro de una misma orden, debe ser incrementa en +1 para tener el registro rpeciso de cómo el usuario fue seleccionando sus productos. \n",
    "Al no tener valores, y ver que si los agrupoamos por orden, la cantida está entre 1 y 63 (inclusive), podemos poner un valor muy alto (999), para que estos datos, que representan solo 70 órdenes (de 450K) se \"alejen\" de las gráficas y estadísticas que hagamos en lo sucesivo.\n",
    "</b> <a class=\"tocSkip\"></a>\n",
    "</div>"
   ]
  },
  {
   "cell_type": "markdown",
   "id": "RnplPFY1gSrb",
   "metadata": {
    "id": "RnplPFY1gSrb"
   },
   "source": [
    "## Conclusiones\n",
    "\n",
    "<div class=\"alert alert-block alert-info\">\n",
    "Revisamos los valores ausente y tomamos decición con base en los mismos datos, y así otorgarle un valor que no impacte en las conclusiones que haremos acontinuación.\n",
    "</b> <a class=\"tocSkip\"></a>\n",
    "</div>"
   ]
  },
  {
   "cell_type": "markdown",
   "id": "UjrOIwTcz3ri",
   "metadata": {
    "id": "UjrOIwTcz3ri"
   },
   "source": [
    "# Paso 3. Análisis de los datos\n"
   ]
  },
  {
   "cell_type": "markdown",
   "id": "turkish-kidney",
   "metadata": {
    "id": "turkish-kidney"
   },
   "source": [
    "# [A] \n",
    "\n",
    "1. Verificar que los valores en las columnas `'order_hour_of_day'` y `'order_dow'` en la tabla orders sean razonables (es decir, `'order_hour_of_day'` oscile entre 0 y 23 y `'order_dow'` oscile entre 0 y 6).\n",
    "2. Crear un gráfico que muestre el número de personas que hacen pedidos dependiendo de la hora del día.\n",
    "3. Crear un gráfico que muestre qué día de la semana la gente hace sus compras.\n",
    "4. Crear un gráfico que muestre el tiempo que la gente espera hasta hacer su siguiente pedido, y comenta sobre los valores mínimos y máximos."
   ]
  },
  {
   "cell_type": "markdown",
   "id": "short-capability",
   "metadata": {
    "id": "short-capability"
   },
   "source": [
    "### [A1] Verifica que los valores sean sensibles"
   ]
  },
  {
   "cell_type": "code",
   "execution_count": 35,
   "id": "growing-fruit",
   "metadata": {
    "id": "growing-fruit"
   },
   "outputs": [
    {
     "name": "stdout",
     "output_type": "stream",
     "text": [
      "Revisamos todos los posibles valores de order_hour_of_day\n",
      "order_hour_of_day\n",
      "0      3180\n",
      "1      1763\n",
      "2       989\n",
      "3       770\n",
      "4       765\n",
      "5      1371\n",
      "6      4215\n",
      "7     13043\n",
      "8     25024\n",
      "9     35896\n",
      "10    40578\n",
      "11    40032\n",
      "12    38034\n",
      "13    39007\n",
      "14    39631\n",
      "15    39789\n",
      "16    38112\n",
      "17    31930\n",
      "18    25510\n",
      "19    19547\n",
      "20    14624\n",
      "21    11019\n",
      "22     8512\n",
      "23     5611\n",
      "Name: order_id, dtype: int64\n"
     ]
    }
   ],
   "source": [
    "print(\"Revisamos todos los posibles valores de order_hour_of_day\")\n",
    "print(orders.groupby(by='order_hour_of_day')['order_id'].count())"
   ]
  },
  {
   "cell_type": "code",
   "execution_count": 36,
   "id": "accessory-malaysia",
   "metadata": {
    "id": "accessory-malaysia"
   },
   "outputs": [
    {
     "name": "stdout",
     "output_type": "stream",
     "text": [
      "Revisamos todos los posibles valores de order_dow\n",
      "order_dow\n",
      "0    84090\n",
      "1    82185\n",
      "2    65833\n",
      "3    60897\n",
      "4    59810\n",
      "5    63488\n",
      "6    62649\n",
      "Name: order_id, dtype: int64\n"
     ]
    }
   ],
   "source": [
    "print(\"Revisamos todos los posibles valores de order_dow\")\n",
    "print(orders.groupby(by='order_dow')['order_id'].count())"
   ]
  },
  {
   "cell_type": "markdown",
   "id": "hmR2GNQ6lCsX",
   "metadata": {
    "id": "hmR2GNQ6lCsX"
   },
   "source": [
    "<div class=\"alert alert-block alert-info\">\n",
    "<b>Comentarios:</b> <a class=“tocSkip”></a>\n",
    "\n",
    "Usamos el group by sobre order_dow y order_hour_of_day para revisar todos los posibles valores de estos datos. Confirmando así que  `order_hour_of_day` oscila entre 0 y 23 y `order_dow` oscila entre 0 y 6\n",
    "</b> <a class=\"tocSkip\"></a>\n",
    "</div>"
   ]
  },
  {
   "cell_type": "markdown",
   "id": "a6743a70",
   "metadata": {
    "id": "a6743a70"
   },
   "source": [
    "### [A2] Para cada hora del día, ¿cuántas personas hacen órdenes? "
   ]
  },
  {
   "cell_type": "code",
   "execution_count": 37,
   "id": "a36cca27",
   "metadata": {
    "id": "a36cca27"
   },
   "outputs": [
    {
     "data": {
      "image/png": "[encoded data removed]",
      "text/plain": [
       "<Figure size 640x480 with 1 Axes>"
      ]
     },
     "metadata": {},
     "output_type": "display_data"
    }
   ],
   "source": [
    "# A.2 Creamos un gráfico que muestre el número de personas que hacen pedidos dependiendo de la hora del día.\n",
    "from matplotlib import pyplot as plt\n",
    "orders['order_hour_of_day'].plot(title = 'Órdenes por hora del día',kind = 'hist', bins=24, ylabel='Frecuencia')\n",
    "plt.show()"
   ]
  },
  {
   "cell_type": "markdown",
   "id": "11270eed",
   "metadata": {
    "id": "11270eed"
   },
   "source": [
    "<div class=\"alert alert-block alert-info\">\n",
    "<b>Comentarios:</b> <a class=“tocSkip”></a>\n",
    "\n",
    "Se observa una tendencia clara que la gente realiza órdenes entre las 10am y 11am, y luego entre las 12 y 17 horas.\n",
    "</b> <a class=\"tocSkip\"></a>\n",
    "</div>"
   ]
  },
  {
   "cell_type": "markdown",
   "id": "documented-command",
   "metadata": {
    "id": "documented-command"
   },
   "source": [
    "### [A3] ¿Qué día de la semana compran víveres las personas?"
   ]
  },
  {
   "cell_type": "code",
   "execution_count": 38,
   "id": "chief-digit",
   "metadata": {
    "id": "chief-digit",
    "scrolled": true
   },
   "outputs": [
    {
     "data": {
      "image/png": "[encoded data removed]",
      "text/plain": [
       "<Figure size 640x480 with 1 Axes>"
      ]
     },
     "metadata": {},
     "output_type": "display_data"
    }
   ],
   "source": [
    "# A.3 Creamos un gráfico que muestre qué día de la semana la gente hace sus compras.\n",
    "orders['order_dow'].plot(kind='hist', title = 'Órdenes por día de la semana', bins = 7, ylabel='Frecuencia')\n",
    "plt.show()"
   ]
  },
  {
   "cell_type": "markdown",
   "id": "dominant-lightning",
   "metadata": {
    "id": "dominant-lightning"
   },
   "source": [
    "<div class=\"alert alert-block alert-info\">\n",
    "<b>Comentarios:</b> <a class=“tocSkip”></a>\n",
    "\n",
    "El domingo es el día en que la gente compra más víveres (yo hago eso cuando pido el súper en línea) y el lunes como el segundo mejor día para surtirse.\n",
    "</b> <a class=\"tocSkip\"></a>\n",
    "</div>"
   ]
  },
  {
   "cell_type": "markdown",
   "id": "cutting-concert",
   "metadata": {
    "id": "cutting-concert"
   },
   "source": [
    "### [A4] ¿Cuánto tiempo esperan las personas hasta hacer otro pedido? "
   ]
  },
  {
   "cell_type": "code",
   "execution_count": 39,
   "id": "c231f523",
   "metadata": {
    "id": "c231f523"
   },
   "outputs": [
    {
     "data": {
      "image/png": "[encoded data removed]",
      "text/plain": [
       "<Figure size 640x480 with 1 Axes>"
      ]
     },
     "metadata": {},
     "output_type": "display_data"
    }
   ],
   "source": [
    "#A.4 Creamos un gráfico que muestre el tiempo que la gente espera hasta hacer su siguiente pedido, y comenta sobre los valores mínimos y máximos.\n",
    "\n",
    "# Como se que los días de interes suceden en 0, 7 y 30, hago un DataFrame solo con esos valores para realizar un contraste con lo demás.\n",
    "orders_interest = orders[orders['days_since_prior_order'].isin([0,7,30])]\n",
    "orders_interest['days_since_prior_order'].plot(kind='hist',  ylabel='Frecuencia', bins=30 , alpha = 0.9)\n",
    "\n",
    "# Historgrama de los días desde la última orden solicitada\n",
    "orders['days_since_prior_order'].plot(kind='hist', title = 'Tiempo de espera al siguente pedido', ylabel='Frecuencia', bins=30, alpha = 0.5)\n",
    "plt.show()"
   ]
  },
  {
   "cell_type": "markdown",
   "id": "discrete-vertex",
   "metadata": {
    "id": "discrete-vertex"
   },
   "source": [
    "<div class=\"alert alert-block alert-info\">\n",
    "<b>Comentarios:</b> <a class=“tocSkip”></a>\n",
    "\n",
    "Es algo sorprendente que un gran número de personas realicen pedidos el mismo día. Lo más natural (que sí representan los datos), es que SIETE, sea el día de espera de mayor incidencia, esto va a corde con que la mayor cantidad de pedidos sea los domingos.\n",
    "Por otro lado, tenemos un gran nicho de oportunidad con los que espera 30 días, es muchísima gente que puede se atraida a reducir un poco esos tiempos.\n",
    "</div>\n",
    "\n",
    "</a>\n"
   ]
  },
  {
   "cell_type": "markdown",
   "id": "tight-staff",
   "metadata": {
    "id": "tight-staff"
   },
   "source": [
    "# [B]  \n",
    "\n",
    "1. ¿Existe alguna diferencia entre las distribuciones `'order_hour_of_day'` de los miércoles y los sábados? Traza gráficos de barra de `'order_hour_of_day'` para ambos días en la misma figura y describe las diferencias que observes.\n",
    "2. Grafica la distribución para el número de órdenes que hacen los clientes (es decir, cuántos clientes hicieron solo 1 pedido, cuántos hicieron 2, cuántos 3, y así sucesivamente...).\n",
    "3. ¿Cuáles son los 20 principales productos que se piden con más frecuencia (muestra su identificación y nombre)?"
   ]
  },
  {
   "cell_type": "markdown",
   "id": "packed-classic",
   "metadata": {
    "id": "packed-classic"
   },
   "source": [
    "### [B1] Diferencia entre miércoles y sábados para  `'order_hour_of_day'`. Traza gráficos de barra para los dos días y describe las diferencias que veas."
   ]
  },
  {
   "cell_type": "code",
   "execution_count": 40,
   "id": "d89b8403",
   "metadata": {
    "id": "d89b8403"
   },
   "outputs": [
    {
     "name": "stdout",
     "output_type": "stream",
     "text": [
      "order_hour_of_day\n",
      "0    373\n",
      "1    215\n",
      "2    106\n",
      "3    101\n",
      "4    108\n",
      "Name: order_hour_of_day, dtype: int64\n"
     ]
    }
   ],
   "source": [
    "# Creamos el DT de los los miércoles agrupado por la hora del día y sus totales\n",
    "orders_wednesday = orders[orders['order_dow']==3].groupby(by='order_hour_of_day')['order_hour_of_day'].count()\n",
    "print(orders_wednesday.head())"
   ]
  },
  {
   "cell_type": "code",
   "execution_count": 41,
   "id": "94e54e8a",
   "metadata": {
    "id": "94e54e8a"
   },
   "outputs": [],
   "source": [
    "# Creamos el DT de los los sábados agrupado por la hora del día y sus totales\n",
    "orders_saturday = orders[orders['order_dow']==6].groupby(by='order_hour_of_day')['order_hour_of_day'].count()"
   ]
  },
  {
   "cell_type": "code",
   "execution_count": 42,
   "id": "797c90a8",
   "metadata": {
    "id": "797c90a8"
   },
   "outputs": [
    {
     "data": {
      "image/png": "[encoded data removed]",
      "text/plain": [
       "<Figure size 640x480 with 1 Axes>"
      ]
     },
     "metadata": {},
     "output_type": "display_data"
    }
   ],
   "source": [
    "#hacemos el plot de miércoles\n",
    "orders_wednesday.plot(title='Totales de órdenes en hora del día',kind='bar',x='order_hour_of_day', xlabel='Hora del día', alpha=0.9)\n",
    "#hacemos el plot de sábado\n",
    "orders_saturday.plot(title='Totales de órdenes en hora del día',kind='bar',x='order_hour_of_day', xlabel='Hora del día', alpha = 0.3)\n",
    "plt.legend(['Wednesday','Saturday'])\n",
    "plt.show()"
   ]
  },
  {
   "cell_type": "code",
   "execution_count": 43,
   "id": "f54747bb-c572-4641-95cd-741351c54999",
   "metadata": {
    "id": "797c90a8"
   },
   "outputs": [
    {
     "data": {
      "image/png": "[encoded data removed]",
      "text/plain": [
       "<Figure size 640x480 with 1 Axes>"
      ]
     },
     "metadata": {},
     "output_type": "display_data"
    }
   ],
   "source": [
    "#Calculamos las diferencias de cada día.\n",
    "difference = orders_saturday - orders_wednesday  # sábado menos miércoles\n",
    "bars = plt.bar(difference.index, difference.values, color=['green' if val >= 0 else 'red' for val in difference.values])\n"
   ]
  },
  {
   "cell_type": "markdown",
   "id": "charitable-congo",
   "metadata": {
    "id": "charitable-congo"
   },
   "source": [
    "<div class=\"alert alert-block alert-info\">\n",
    "<b>Comentarios:</b> <a class=“tocSkip”></a>\n",
    "\n",
    "Se observa una gran semejanza en los horarios de los pedidos del miércoles y el sábado. En casi todos los horarios, solo en las 12, 13 y 14 horas hay más pedidos los sábados. La diferencia en el comportamiento de los clientes al medio día, podría estar relacionada con la hora del almuerzo, cuando muchas personas están ocupadas y no usan la app.\n",
    "\n",
    "</div>\n",
    "    \n",
    "</a>"
   ]
  },
  {
   "cell_type": "markdown",
   "id": "e3891143",
   "metadata": {
    "id": "e3891143"
   },
   "source": [
    "### [B2] ¿Cuál es la distribución para el número de pedidos por cliente?"
   ]
  },
  {
   "cell_type": "code",
   "execution_count": 44,
   "id": "d8c26c23",
   "metadata": {
    "id": "d8c26c23"
   },
   "outputs": [
    {
     "name": "stdout",
     "output_type": "stream",
     "text": [
      "user_id\n",
      "1     55357\n",
      "2     36508\n",
      "3     21547\n",
      "4     13498\n",
      "5      8777\n",
      "6      6012\n",
      "7      4240\n",
      "8      3019\n",
      "9      2152\n",
      "10     1645\n",
      "11     1308\n",
      "12      947\n",
      "13      703\n",
      "14      512\n",
      "15      437\n",
      "16      263\n",
      "17      184\n",
      "18      121\n",
      "19       85\n",
      "20       52\n",
      "21       22\n",
      "22       23\n",
      "23       19\n",
      "24        3\n",
      "25        1\n",
      "26        1\n",
      "28        1\n",
      "Name: count, dtype: int64\n"
     ]
    }
   ],
   "source": [
    "#Graficamos la distribución para el número de órdenes que hacen los clientes (es decir, cuántos clientes hicieron solo 1 pedido, cuántos hicieron 2, cuántos 3, y así sucesivamente...).\n",
    "#print(orders.groupby(by='user_id')['user_id'].count())\n",
    "orders_per_client = orders.groupby(by='user_id')['user_id'].count()\n",
    "# muestro los datos exactos\n",
    "print(orders_per_client.value_counts().sort_index())\n"
   ]
  },
  {
   "cell_type": "code",
   "execution_count": 45,
   "id": "00e69a66",
   "metadata": {
    "id": "00e69a66"
   },
   "outputs": [
    {
     "data": {
      "image/png": "[encoded data removed]",
      "text/plain": [
       "<Figure size 640x480 with 1 Axes>"
      ]
     },
     "metadata": {},
     "output_type": "display_data"
    }
   ],
   "source": [
    "\n",
    "#REalizo el histograma\n",
    "orders_per_client.plot(kind='hist', bins=30 , edgecolor='black')\n",
    "\n",
    "plt.title('Distribución de órdenes por cliente')\n",
    "plt.xlabel('Número de órdenes')\n",
    "plt.ylabel('Número de clientes')\n",
    "plt.grid(True)\n",
    "plt.show()"
   ]
  },
  {
   "cell_type": "markdown",
   "id": "d2eff7d5",
   "metadata": {
    "id": "d2eff7d5"
   },
   "source": [
    "<div class=\"alert alert-block alert-info\">\n",
    "<b>Comentarios:</b> <a class=“tocSkip”></a>\n",
    "\n",
    "La máyoría de los clientes realizan una única orden y hasta cuatro veces.  Sin embargo, un grupo pequeño es muy fiel y ha realizado más de 10 pedidos, e incluso más de 20 pedidos.\n",
    "</div>\n",
    "    \n",
    "</a>"
   ]
  },
  {
   "cell_type": "markdown",
   "id": "54a0319c",
   "metadata": {
    "id": "54a0319c"
   },
   "source": [
    "### [B3] ¿Cuáles son los 20 productos más populares (muestra su ID y nombre)?"
   ]
  },
  {
   "cell_type": "code",
   "execution_count": 46,
   "id": "exterior-arizona",
   "metadata": {
    "id": "exterior-arizona",
    "scrolled": true
   },
   "outputs": [],
   "source": [
    "# como vamos a necesitar el nombre, primero hacemos la unión de las tablas orders_product y product.\n",
    "\n",
    "productos_completo = order_products.merge(products, on='product_id', how='inner')\n",
    "#print(productos_completo.query('product_id in (1,2,3,4,5)').head(20))"
   ]
  },
  {
   "cell_type": "code",
   "execution_count": 47,
   "id": "universal-facial",
   "metadata": {
    "id": "universal-facial"
   },
   "outputs": [],
   "source": [
    "#ahora ya podermo agrupar y order para mostrar el top 20.\n",
    "frecuencia_productos = productos_completo.groupby(by=['product_id','product_name']).size()\n",
    "frecuencia_productos = frecuencia_productos.sort_values(ascending=False)\n"
   ]
  },
  {
   "cell_type": "code",
   "execution_count": 48,
   "id": "bbcdd20b",
   "metadata": {
    "id": "bbcdd20b"
   },
   "outputs": [
    {
     "name": "stdout",
     "output_type": "stream",
     "text": [
      "product_id  product_name            \n",
      "24852       BANANA                      66050\n",
      "13176       BAG OF ORGANIC BANANAS      53297\n",
      "21137       ORGANIC STRAWBERRIES        37039\n",
      "21903       ORGANIC BABY SPINACH        33971\n",
      "47209       ORGANIC HASS AVOCADO        29773\n",
      "47766       ORGANIC AVOCADO             24689\n",
      "47626       LARGE LEMON                 21495\n",
      "16797       STRAWBERRIES                20018\n",
      "26209       LIMES                       19690\n",
      "27845       ORGANIC WHOLE MILK          19600\n",
      "27966       ORGANIC RASPBERRIES         19197\n",
      "22935       ORGANIC YELLOW ONION        15898\n",
      "24964       ORGANIC GARLIC              15292\n",
      "45007       ORGANIC ZUCCHINI            14584\n",
      "39275       ORGANIC BLUEBERRIES         13879\n",
      "49683       CUCUMBER KIRBY              13675\n",
      "28204       ORGANIC FUJI APPLE          12544\n",
      "5876        ORGANIC LEMON               12232\n",
      "8277        APPLE HONEYCRISP ORGANIC    11993\n",
      "40706       ORGANIC GRAPE TOMATOES      11781\n",
      "dtype: int64\n"
     ]
    }
   ],
   "source": [
    "# ahora ordernamos y mostramos el top 20\n",
    "print(frecuencia_productos.head(20))\n",
    "#imprimo solo el product Id 24852 para confirmar que hay 66,050 registros\n",
    "#print(order_products[order_products['product_id'] == 24852])"
   ]
  },
  {
   "cell_type": "markdown",
   "id": "7df00f47",
   "metadata": {
    "id": "7df00f47"
   },
   "source": [
    "<div class=\"alert alert-block alert-info\">\n",
    "<b>Comentarios:</b> <a class=“tocSkip”></a>\n",
    "\n",
    "Se observa que el Top 20 de productos más populares. Frutas como plátanos, fresas y aguacates lideran la lista, y hay una clara preferencia por los productos \"Organic\". Esto revela tendencias valiosas sobre los gustos y prioridades de los clientes. Aunque la banana es el más pedido.\n",
    "</div>\n",
    "\n",
    "\n",
    "</a>"
   ]
  },
  {
   "cell_type": "markdown",
   "id": "gross-theme",
   "metadata": {
    "id": "gross-theme"
   },
   "source": [
    "# [C]  \n",
    "\n",
    "1. ¿Cuántos artículos suelen comprar las personas en un pedido? ¿Cómo es la distribución?\n",
    "2. ¿Cuáles son los 20 principales artículos que vuelven a pedirse con mayor frecuencia (muestra sus nombres e IDs de los productos)?\n",
    "3. Para cada producto, ¿cuál es la tasa de repetición del pedido (número de repeticiones de pedido/total de pedidos?\n",
    "4. Para cada cliente, ¿qué proporción de los productos que pidió ya los había pedido? Calcula la tasa de repetición de pedido para cada usuario en lugar de para cada producto.\n",
    "5. ¿Cuáles son los 20 principales artículos que la gente pone primero en sus carritos (muestra las IDs de los productos, sus nombres, y el número de veces en que fueron el primer artículo en añadirse al carrito)?"
   ]
  },
  {
   "cell_type": "markdown",
   "id": "romantic-deposit",
   "metadata": {
    "id": "romantic-deposit"
   },
   "source": [
    "### [C1] ¿Cuántos artículos compran normalmente las personas en un pedido? ¿Cómo es la distribución?"
   ]
  },
  {
   "cell_type": "code",
   "execution_count": 49,
   "id": "virtual-punch",
   "metadata": {
    "id": "virtual-punch"
   },
   "outputs": [],
   "source": [
    "# Creamos el DT que tenga el total de producto por orden\n",
    "product_in_order = order_products.groupby(by='order_id')['order_id'].count()"
   ]
  },
  {
   "cell_type": "code",
   "execution_count": 50,
   "id": "sensitive-breathing",
   "metadata": {
    "id": "sensitive-breathing"
   },
   "outputs": [
    {
     "name": "stdout",
     "output_type": "stream",
     "text": [
      "order_id\n",
      "1      21847\n",
      "2      26292\n",
      "3      29046\n",
      "4      31054\n",
      "5      31923\n",
      "       ...  \n",
      "98         1\n",
      "104        1\n",
      "108        1\n",
      "115        1\n",
      "127        1\n",
      "Name: count, Length: 90, dtype: int64\n"
     ]
    }
   ],
   "source": [
    "# muetro los datos exactos\n",
    "print(product_in_order.value_counts().sort_index())"
   ]
  },
  {
   "cell_type": "code",
   "execution_count": 51,
   "id": "completed-frank",
   "metadata": {
    "id": "completed-frank"
   },
   "outputs": [
    {
     "data": {
      "image/png": "[encoded data removed]",
      "text/plain": [
       "<Figure size 640x480 with 1 Axes>"
      ]
     },
     "metadata": {},
     "output_type": "display_data"
    }
   ],
   "source": [
    "\n",
    "#Creamos la distribución\n",
    "product_in_order.plot(kind='hist', bins=30 , edgecolor='black')\n",
    "\n",
    "plt.title('Distribución de cantidad productos pedidos en cada orden')\n",
    "plt.xlabel('Número de productos')\n",
    "plt.ylabel('Número de órdenes')\n",
    "plt.grid(True)\n",
    "plt.show()"
   ]
  },
  {
   "cell_type": "markdown",
   "id": "designed-mortality",
   "metadata": {
    "id": "designed-mortality"
   },
   "source": [
    "Escribe aquí tus conclusiones\n",
    "\n",
    "<div class=\"alert alert-block alert-info\">\n",
    "<b>Comentarios:</b> <a class=“tocSkip”></a>\n",
    "\n",
    "¡Es mucha la cantida de veces que el pedido es de menos de 5 productos! La cantidad de veces con más de 20 productos decrece rápidamente aunque los datos dicen que al menos una vez, han habido pedidos de más de 100 productos! ¿habran sido dulces?. La distribución muestra que los clientes compran pocas unidades por orden.\n",
    "</div>\n",
    "\n"
   ]
  },
  {
   "cell_type": "markdown",
   "id": "5e6b5537",
   "metadata": {
    "id": "5e6b5537"
   },
   "source": [
    "### [C2] ¿Cuáles son los 20 principales artículos que vuelven a pedirse con mayor frecuencia (muestra sus nombres e IDs de los productos)?"
   ]
  },
  {
   "cell_type": "code",
   "execution_count": 52,
   "id": "9374e55a",
   "metadata": {
    "id": "9374e55a"
   },
   "outputs": [],
   "source": [
    "# no es lo mismo preguntarse por los \"más pedidos\", los \"más frecuentemente pedidos\". \n",
    "# La segunda refiere a que un mismo cliente haya pedido el mismo producto.\n",
    "orders_product_complete = productos_completo.merge(orders, on='order_id', how='inner')"
   ]
  },
  {
   "cell_type": "code",
   "execution_count": 53,
   "id": "possible-change",
   "metadata": {
    "id": "possible-change",
    "scrolled": true
   },
   "outputs": [
    {
     "name": "stdout",
     "output_type": "stream",
     "text": [
      "user_id  product_id  product_name                                                    \n",
      "2        9681        CHICKEN TIKKA MASALA WITH CUMIN INFUSED BASMATI RICE FROZEN MEAL    1\n",
      "         12000       BAKED ORGANIC SEA SALT CRUNCHY PEA SNACK                            1\n",
      "         13176       BAG OF ORGANIC BANANAS                                              1\n",
      "         16589       PLANTAIN CHIPS                                                      1\n",
      "         20574       ROASTED TURKEY                                                      1\n",
      "Name: order_id, dtype: int64\n"
     ]
    }
   ],
   "source": [
    "# Agrupamos por cliente y producto\n",
    "user_and_products = orders_product_complete.groupby(by=['user_id','product_id','product_name'])['order_id'].nunique()\n",
    "print(user_and_products.head())"
   ]
  },
  {
   "cell_type": "code",
   "execution_count": 54,
   "id": "professional-surfing",
   "metadata": {
    "id": "professional-surfing",
    "scrolled": true
   },
   "outputs": [
    {
     "name": "stdout",
     "output_type": "stream",
     "text": [
      "user_id  product_id  product_name                  \n",
      "2        32792       CHIPOTLE BEEF & PORK REALSTICK    2\n",
      "7        21137       ORGANIC STRAWBERRIES              2\n",
      "13       4210        WHOLE MILK                        3\n",
      "         27086       HALF & HALF                       3\n",
      "         32446       BUNCHED CARROTS                   2\n",
      "Name: order_id, dtype: int64\n"
     ]
    }
   ],
   "source": [
    "# como nos interesan los que se han pedido más de una vez\n",
    "user_and_products = user_and_products[user_and_products > 1]\n",
    "print(user_and_products.head())\n",
    "#Ahora, como ya tengo las veces que cada producto fue re-ordenado (vuelvo a pedir) por cad cliente, \n",
    "#con eso ya podemos contar cual de esto es el produto más re-ordenado\n",
    "\n",
    "product_redorders_count = user_and_products.reset_index().groupby(by=['product_id','product_name'])['user_id'].count()"
   ]
  },
  {
   "cell_type": "code",
   "execution_count": 55,
   "id": "48dd3658",
   "metadata": {
    "id": "48dd3658"
   },
   "outputs": [
    {
     "name": "stdout",
     "output_type": "stream",
     "text": [
      "product_id  product_name            \n",
      "24852       BANANA                      14422\n",
      "13176       BAG OF ORGANIC BANANAS      11612\n",
      "21137       ORGANIC STRAWBERRIES         7885\n",
      "21903       ORGANIC BABY SPINACH         7153\n",
      "47209       ORGANIC HASS AVOCADO         6361\n",
      "47766       ORGANIC AVOCADO              5063\n",
      "27845       ORGANIC WHOLE MILK           4212\n",
      "47626       LARGE LEMON                  4021\n",
      "27966       ORGANIC RASPBERRIES          3947\n",
      "16797       STRAWBERRIES                 3736\n",
      "26209       LIMES                        3588\n",
      "22935       ORGANIC YELLOW ONION         2996\n",
      "24964       ORGANIC GARLIC               2779\n",
      "45007       ORGANIC ZUCCHINI             2701\n",
      "49683       CUCUMBER KIRBY               2514\n",
      "8277        APPLE HONEYCRISP ORGANIC     2388\n",
      "28204       ORGANIC FUJI APPLE           2369\n",
      "39275       ORGANIC BLUEBERRIES          2290\n",
      "5876        ORGANIC LEMON                2262\n",
      "49235       ORGANIC HALF & HALF          2233\n",
      "Name: user_id, dtype: int64\n"
     ]
    }
   ],
   "source": [
    "top_20_reordered = product_redorders_count.sort_values(ascending=False)\n",
    "print(top_20_reordered.head(20))"
   ]
  },
  {
   "cell_type": "markdown",
   "id": "80e70c74",
   "metadata": {
    "id": "80e70c74"
   },
   "source": [
    "<div class=\"alert alert-block alert-info\">\n",
    "<b>Comentarios:</b> <a class=“tocSkip”></a>\n",
    "\n",
    "Estadísticamente era esperado que la BANANA ,demás de ser las más pedida, también sea la que más veces fue re-ordenada por un mismo cliente.\n",
    "en genral, casi todo tiene el patrón pero acá, el del lugar 20, ORGANIC HALF & HALF, no es parte del top 20 de más pedidos.\n",
    "\n",
    "Se destacan productos agrícolas y lácteos, lo cual es lógico por su consumo frecuente. Esto muestra un patrón de compra muy coherente con las necesidades diarias.\n",
    "\n",
    "</div>"
   ]
  },
  {
   "cell_type": "markdown",
   "id": "9d312b14",
   "metadata": {
    "id": "9d312b14"
   },
   "source": [
    "### [C3] Para cada producto, ¿cuál es la proporción de las veces que se pide y que se vuelve a pedir?"
   ]
  },
  {
   "cell_type": "code",
   "execution_count": 56,
   "id": "8ae9f4b1",
   "metadata": {
    "id": "8ae9f4b1"
   },
   "outputs": [],
   "source": [
    "#Ahora vamos a usar el valor de \"reordered\". Dentro del conjunto de order_productos, si sumamos el valor\n",
    "# de reordered tendremos las veces que el prodcuto fue vuelto a pedir. y si contamos ese camto, tendremos las veces que\n",
    "# el producto fue pedido.\n",
    "\n",
    "#primero agrupamos por prodcuto\n",
    "order_by_product = order_products.groupby(by='product_id')"
   ]
  },
  {
   "cell_type": "code",
   "execution_count": 57,
   "id": "103e7fe1",
   "metadata": {
    "id": "103e7fe1"
   },
   "outputs": [
    {
     "name": "stdout",
     "output_type": "stream",
     "text": [
      "            total_orders  total_re_ordered\n",
      "product_id                                \n",
      "1                    280               158\n",
      "2                     11                 0\n",
      "3                     42                31\n",
      "4                     49                25\n",
      "7                      2                 1\n"
     ]
    }
   ],
   "source": [
    "# como quieremos contar t sumas a la vez usamos agg()\n",
    "# aplicamos eso la agrupación\n",
    "order_by_product_agg = order_by_product.agg(\n",
    "    total_orders = ( 'reordered','count'),\n",
    "    total_re_ordered = ( 'reordered','sum'))\n",
    "print(order_by_product_agg.head())"
   ]
  },
  {
   "cell_type": "code",
   "execution_count": 58,
   "id": "social-individual",
   "metadata": {
    "id": "social-individual"
   },
   "outputs": [
    {
     "name": "stdout",
     "output_type": "stream",
     "text": [
      "            total_orders  total_re_ordered  proporcion_re_ordered\n",
      "product_id                                                       \n",
      "1                    280               158               0.564286\n",
      "2                     11                 0               0.000000\n",
      "3                     42                31               0.738095\n",
      "4                     49                25               0.510204\n",
      "7                      2                 1               0.500000\n"
     ]
    },
    {
     "data": {
      "image/png": "[encoded data removed]",
      "text/plain": [
       "<Figure size 800x600 with 1 Axes>"
      ]
     },
     "metadata": {},
     "output_type": "display_data"
    }
   ],
   "source": [
    "order_by_product_agg['proporcion_re_ordered'] =order_by_product_agg['total_re_ordered']/order_by_product_agg['total_orders']\n",
    "print(order_by_product_agg.head())\n",
    "\n",
    "top_order_by_product_agg = order_by_product_agg.sort_values('proporcion_re_ordered', ascending=False)\n",
    "\n",
    "top_order_by_product_agg.plot(title='Distribucion de los productos dentro de las órdenes y su proporción de re-oredered'\n",
    "                              ,x='total_orders'\n",
    "                              ,y='proporcion_re_ordered'\n",
    "                              , kind='scatter'\n",
    "                              ,figsize=(8,6)\n",
    "                              ,xlabel='Total de órdenes'\n",
    "                             ,ylabel='Proporción de productos re-ordenados')\n",
    "plt.show()"
   ]
  },
  {
   "attachments": {},
   "cell_type": "markdown",
   "id": "I10dEIAyldcO",
   "metadata": {
    "id": "I10dEIAyldcO"
   },
   "source": [
    "<div class=\"alert alert-block alert-info\">\n",
    "<b>Comentarios:</b> <a class=“tocSkip”></a>\n",
    "\n",
    "Todo indica que la BANANA vuelve a hacer aparición, ya que hay poco productos que son muy pedidos, y a la vez muy re-ordeneados. Son prodcutos muy populares y al parecer de alta necesidad.\n",
    "\n",
    "Dejando esos de lado, tenemos unos podructos no tan populaes(menos de 10,000 ordnes), pero que son constatemente re-ordenados, en el 60% y 80% , indicando alfata fidelidad de los clientes a esto.\n",
    "\n",
    "</div>"
   ]
  },
  {
   "cell_type": "markdown",
   "id": "subject-boxing",
   "metadata": {
    "id": "subject-boxing"
   },
   "source": [
    "### [C4] Para cada cliente, ¿qué proporción de sus productos ya los había pedido?"
   ]
  },
  {
   "cell_type": "code",
   "execution_count": 59,
   "id": "medical-couple",
   "metadata": {
    "id": "medical-couple",
    "scrolled": true
   },
   "outputs": [
    {
     "name": "stdout",
     "output_type": "stream",
     "text": [
      "         total_user_id  total_re_ordered\n",
      "user_id                                 \n",
      "2                   26                 1\n",
      "4                    2                 0\n",
      "5                   12                 8\n",
      "6                    4                 0\n",
      "7                   14                13\n"
     ]
    }
   ],
   "source": [
    "# La estrategía es similar a la anterior, pero ahora nos itneresa en el global de clientes,\n",
    "# para eso vamos a suar la tabla más general que tenemos \"orders_product_complete\"\n",
    "orders_product_complete_client = orders_product_complete.groupby(by='user_id')\n",
    "# como quieremos contar t sumas a la vez usamos agg()\n",
    "# aplicamos eso la agrupación\n",
    "orders_product_complete_client_agg = orders_product_complete_client.agg(\n",
    "    total_user_id = ( 'reordered','count'),\n",
    "    total_re_ordered = ( 'reordered','sum'))\n",
    "print(orders_product_complete_client_agg.head())"
   ]
  },
  {
   "cell_type": "code",
   "execution_count": 60,
   "id": "8892e4b4",
   "metadata": {
    "id": "8892e4b4"
   },
   "outputs": [
    {
     "name": "stdout",
     "output_type": "stream",
     "text": [
      "            total_orders  total_re_ordered  proporcion_re_ordered\n",
      "product_id                                                       \n",
      "1                    280               158               0.564286\n",
      "2                     11                 0               0.000000\n",
      "3                     42                31               0.738095\n",
      "4                     49                25               0.510204\n",
      "7                      2                 1               0.500000\n"
     ]
    },
    {
     "data": {
      "image/png": "[encoded data removed]",
      "text/plain": [
       "<Figure size 800x600 with 1 Axes>"
      ]
     },
     "metadata": {},
     "output_type": "display_data"
    }
   ],
   "source": [
    "orders_product_complete_client_agg['proporcion_re_ordered'] =orders_product_complete_client_agg['total_re_ordered']/orders_product_complete_client_agg['total_user_id']\n",
    "print(order_by_product_agg.head())\n",
    "\n",
    "top_orders_product_complete_client_agg = orders_product_complete_client_agg.sort_values('proporcion_re_ordered', ascending=False)\n",
    "\n",
    "top_orders_product_complete_client_agg.plot(title='Distribucion de los productos dentro de los clientes y su proporción de re-oredered'\n",
    "                              ,x='total_user_id'\n",
    "                              ,y='proporcion_re_ordered'\n",
    "                              , kind='scatter'\n",
    "                              ,figsize=(8,6)\n",
    "                              ,xlabel='Total de clientes'\n",
    "                             ,ylabel='Proporción de productos re-ordenados')\n",
    "plt.show()"
   ]
  },
  {
   "cell_type": "markdown",
   "id": "BgJSvXDsleXz",
   "metadata": {
    "id": "BgJSvXDsleXz"
   },
   "source": [
    "<div class=\"alert alert-block alert-info\">\n",
    "<b>Comentarios:</b> <a class=“tocSkip”></a>\n",
    "\n",
    "Tenemos muchos cliente con alta fidelidad a los productos, una media se hubica en un 80% de dicha proporción. Aunque los valores son variados, esta información ayuda a identificar clientes leales y a enfocar estrategias de marketing para aumentar la frecuencia de compra en quienes ordenan menos.\n",
    "</div>"
   ]
  },
  {
   "cell_type": "markdown",
   "id": "92d35137",
   "metadata": {
    "id": "92d35137"
   },
   "source": [
    "### [C5] ¿Cuáles son los 20 principales artículos que las personas ponen primero en sus carritos?"
   ]
  },
  {
   "cell_type": "code",
   "execution_count": 61,
   "id": "0ae57274",
   "metadata": {
    "id": "0ae57274",
    "scrolled": true
   },
   "outputs": [
    {
     "name": "stdout",
     "output_type": "stream",
     "text": [
      "26469\n"
     ]
    }
   ],
   "source": [
    "# Para logar ver esto, por a supioner que sol tomo todos los datoa de \"productos_completo\"\n",
    "# y filtro solo por add_to_cart_order == 1. Si logro al menos 20 diferetnes productos, entonces tendré la repsuesta\n",
    "\n",
    "productos_completo_first = productos_completo[productos_completo['add_to_cart_order'] == 1]\n",
    "print(productos_completo_first['product_name'].nunique())"
   ]
  },
  {
   "cell_type": "code",
   "execution_count": 62,
   "id": "forty-netherlands",
   "metadata": {
    "id": "forty-netherlands",
    "scrolled": true
   },
   "outputs": [],
   "source": [
    "productos_completo_first_group = productos_completo_first.groupby(by=['product_id','product_name'])['order_id'].count()"
   ]
  },
  {
   "cell_type": "code",
   "execution_count": 63,
   "id": "08e41ec2",
   "metadata": {
    "id": "08e41ec2"
   },
   "outputs": [
    {
     "data": {
      "text/html": [
       "<div>\n",
       "<style scoped>\n",
       "    .dataframe tbody tr th:only-of-type {\n",
       "        vertical-align: middle;\n",
       "    }\n",
       "\n",
       "    .dataframe tbody tr th {\n",
       "        vertical-align: top;\n",
       "    }\n",
       "\n",
       "    .dataframe thead th {\n",
       "        text-align: right;\n",
       "    }\n",
       "</style>\n",
       "<table border=\"1\" class=\"dataframe\">\n",
       "  <thead>\n",
       "    <tr style=\"text-align: right;\">\n",
       "      <th></th>\n",
       "      <th>product_id</th>\n",
       "      <th>product_name</th>\n",
       "      <th>order_id</th>\n",
       "    </tr>\n",
       "  </thead>\n",
       "  <tbody>\n",
       "    <tr>\n",
       "      <th>13414</th>\n",
       "      <td>24852</td>\n",
       "      <td>BANANA</td>\n",
       "      <td>15562</td>\n",
       "    </tr>\n",
       "    <tr>\n",
       "      <th>7127</th>\n",
       "      <td>13176</td>\n",
       "      <td>BAG OF ORGANIC BANANAS</td>\n",
       "      <td>11026</td>\n",
       "    </tr>\n",
       "    <tr>\n",
       "      <th>15028</th>\n",
       "      <td>27845</td>\n",
       "      <td>ORGANIC WHOLE MILK</td>\n",
       "      <td>4363</td>\n",
       "    </tr>\n",
       "    <tr>\n",
       "      <th>11384</th>\n",
       "      <td>21137</td>\n",
       "      <td>ORGANIC STRAWBERRIES</td>\n",
       "      <td>3946</td>\n",
       "    </tr>\n",
       "    <tr>\n",
       "      <th>25439</th>\n",
       "      <td>47209</td>\n",
       "      <td>ORGANIC HASS AVOCADO</td>\n",
       "      <td>3390</td>\n",
       "    </tr>\n",
       "    <tr>\n",
       "      <th>11786</th>\n",
       "      <td>21903</td>\n",
       "      <td>ORGANIC BABY SPINACH</td>\n",
       "      <td>3336</td>\n",
       "    </tr>\n",
       "    <tr>\n",
       "      <th>25732</th>\n",
       "      <td>47766</td>\n",
       "      <td>ORGANIC AVOCADO</td>\n",
       "      <td>3044</td>\n",
       "    </tr>\n",
       "    <tr>\n",
       "      <th>10622</th>\n",
       "      <td>19660</td>\n",
       "      <td>SPRING WATER</td>\n",
       "      <td>2336</td>\n",
       "    </tr>\n",
       "    <tr>\n",
       "      <th>9050</th>\n",
       "      <td>16797</td>\n",
       "      <td>STRAWBERRIES</td>\n",
       "      <td>2308</td>\n",
       "    </tr>\n",
       "    <tr>\n",
       "      <th>15102</th>\n",
       "      <td>27966</td>\n",
       "      <td>ORGANIC RASPBERRIES</td>\n",
       "      <td>2024</td>\n",
       "    </tr>\n",
       "    <tr>\n",
       "      <th>24024</th>\n",
       "      <td>44632</td>\n",
       "      <td>SPARKLING WATER GRAPEFRUIT</td>\n",
       "      <td>1914</td>\n",
       "    </tr>\n",
       "    <tr>\n",
       "      <th>26519</th>\n",
       "      <td>49235</td>\n",
       "      <td>ORGANIC HALF &amp; HALF</td>\n",
       "      <td>1797</td>\n",
       "    </tr>\n",
       "    <tr>\n",
       "      <th>25658</th>\n",
       "      <td>47626</td>\n",
       "      <td>LARGE LEMON</td>\n",
       "      <td>1737</td>\n",
       "    </tr>\n",
       "    <tr>\n",
       "      <th>115</th>\n",
       "      <td>196</td>\n",
       "      <td>SODA</td>\n",
       "      <td>1733</td>\n",
       "    </tr>\n",
       "    <tr>\n",
       "      <th>20853</th>\n",
       "      <td>38689</td>\n",
       "      <td>ORGANIC REDUCED FAT MILK</td>\n",
       "      <td>1397</td>\n",
       "    </tr>\n",
       "    <tr>\n",
       "      <th>14158</th>\n",
       "      <td>26209</td>\n",
       "      <td>LIMES</td>\n",
       "      <td>1370</td>\n",
       "    </tr>\n",
       "    <tr>\n",
       "      <th>6660</th>\n",
       "      <td>12341</td>\n",
       "      <td>HASS AVOCADOS</td>\n",
       "      <td>1340</td>\n",
       "    </tr>\n",
       "    <tr>\n",
       "      <th>3153</th>\n",
       "      <td>5785</td>\n",
       "      <td>ORGANIC REDUCED FAT 2% MILK</td>\n",
       "      <td>1310</td>\n",
       "    </tr>\n",
       "    <tr>\n",
       "      <th>14639</th>\n",
       "      <td>27086</td>\n",
       "      <td>HALF &amp; HALF</td>\n",
       "      <td>1309</td>\n",
       "    </tr>\n",
       "    <tr>\n",
       "      <th>23335</th>\n",
       "      <td>43352</td>\n",
       "      <td>RASPBERRIES</td>\n",
       "      <td>1246</td>\n",
       "    </tr>\n",
       "  </tbody>\n",
       "</table>\n",
       "</div>"
      ],
      "text/plain": [
       "       product_id                 product_name  order_id\n",
       "13414       24852                       BANANA     15562\n",
       "7127        13176       BAG OF ORGANIC BANANAS     11026\n",
       "15028       27845           ORGANIC WHOLE MILK      4363\n",
       "11384       21137         ORGANIC STRAWBERRIES      3946\n",
       "25439       47209         ORGANIC HASS AVOCADO      3390\n",
       "11786       21903         ORGANIC BABY SPINACH      3336\n",
       "25732       47766              ORGANIC AVOCADO      3044\n",
       "10622       19660                 SPRING WATER      2336\n",
       "9050        16797                 STRAWBERRIES      2308\n",
       "15102       27966          ORGANIC RASPBERRIES      2024\n",
       "24024       44632   SPARKLING WATER GRAPEFRUIT      1914\n",
       "26519       49235          ORGANIC HALF & HALF      1797\n",
       "25658       47626                  LARGE LEMON      1737\n",
       "115           196                         SODA      1733\n",
       "20853       38689     ORGANIC REDUCED FAT MILK      1397\n",
       "14158       26209                        LIMES      1370\n",
       "6660        12341                HASS AVOCADOS      1340\n",
       "3153         5785  ORGANIC REDUCED FAT 2% MILK      1310\n",
       "14639       27086                  HALF & HALF      1309\n",
       "23335       43352                  RASPBERRIES      1246"
      ]
     },
     "execution_count": 63,
     "metadata": {},
     "output_type": "execute_result"
    }
   ],
   "source": [
    "productos_completo_first_group.reset_index().sort_values(by='order_id', ascending=False).head(20)"
   ]
  },
  {
   "cell_type": "markdown",
   "id": "28ce9872",
   "metadata": {
    "id": "28ce9872"
   },
   "source": [
    "<div class=\"alert alert-block alert-info\">\n",
    "<b>Comentarios:</b> <a class=“tocSkip”></a>\n",
    "\n",
    "Y la BANANA hast el final.\n",
    "Acá, no considiré necesario hace un analisis por cada cliente y ver las veces que pidió en el primer orden el mismo artículo. Acá, lo que hice fue revisar de forma global, los artículos que se pidieron primero en el orden secuencial. Y sobre eso trabaje con lo que  se nota una clara preferencia por frutas frescas y productos orgánicos. Estos artículos funcionan como “productos ancla” en las compras, además esta información será muy útil para mejorar la tienda, el inventario y las estrategias de marketing.\n",
    "\n",
    "</div>"
   ]
  },
  {
   "cell_type": "markdown",
   "id": "uITbFCEoDosC",
   "metadata": {
    "id": "uITbFCEoDosC"
   },
   "source": [
    "### Conclusion general del proyecto:"
   ]
  },
  {
   "cell_type": "markdown",
   "id": "b181206b-2882-44ae-94ee-eb0a9ea5bfa1",
   "metadata": {
    "id": "28ce9872"
   },
   "source": [
    "\n",
    "<div class=\"alert alert-block alert-info\">\n",
    "\n",
    "El análisis muestra patrones de compra coherentes con hábitos cotidianos: fuerte actividad los domingos y lunes, predominio de pedidos pequeños y una alta fidelidad hacia productos básicos, en especial frutas y lácteos.\n",
    "La información obtenida es útil para:\n",
    "\n",
    "Optimizar inventarios (productos orgánicos y frutas como prioridad).\n",
    "\n",
    "Diseñar campañas de marketing personalizadas (incentivar a clientes con intervalos largos entre compras).\n",
    "\n",
    "Reforzar la fidelidad en clientes recurrentes de productos con alta tasa de recompra.\n",
    "\n",
    "</div>"
   ]
  }
 ],
 "metadata": {
  "colab": {
   "provenance": [
    {
     "file_id": "1aLGZ19-GYem3LZdYHuzuwYIeSw_tr0AT",
     "timestamp": 1689682143157
    }
   ]
  },
  "kernelspec": {
   "display_name": "base",
   "language": "python",
   "name": "python3"
  },
  "language_info": {
   "codemirror_mode": {
    "name": "ipython",
    "version": 3
   },
   "file_extension": ".py",
   "mimetype": "text/x-python",
   "name": "python",
   "nbconvert_exporter": "python",
   "pygments_lexer": "ipython3",
   "version": "3.12.7"
  }
 },
 "nbformat": 4,
 "nbformat_minor": 5
}
